{
 "cells": [
  {
   "cell_type": "markdown",
   "metadata": {},
   "source": [
    "# Neural networks with PyTorch\n",
    "\n",
    "Deep learning networks tend to be massive with dozens or hundreds of layers, that's where the term \"deep\" comes from. You can build one of these deep networks using only weight matrices as we did in the previous notebook, but in general it's very cumbersome and difficult to implement. PyTorch has a nice module `nn` that provides a nice way to efficiently build large neural networks."
   ]
  },
  {
   "cell_type": "code",
   "execution_count": 80,
   "metadata": {},
   "outputs": [],
   "source": [
    "# Import necessary packages\n",
    "\n",
    "%matplotlib inline\n",
    "%config InlineBackend.figure_format = 'retina'\n",
    "\n",
    "import numpy as np\n",
    "import torch\n",
    "\n",
    "import helper\n",
    "\n",
    "import matplotlib.pyplot as plt"
   ]
  },
  {
   "cell_type": "markdown",
   "metadata": {},
   "source": [
    "\n",
    "Now we're going to build a larger network that can solve a (formerly) difficult problem, identifying text in an image. Here we'll use the MNIST dataset which consists of greyscale handwritten digits. Each image is 28x28 pixels, you can see a sample below\n",
    "\n",
    "<img src='assets/mnist.png'>\n",
    "\n",
    "Our goal is to build a neural network that can take one of these images and predict the digit in the image.\n",
    "\n",
    "First up, we need to get our dataset. This is provided through the `torchvision` package. The code below will download the MNIST dataset, then create training and test datasets for us. Don't worry too much about the details here, you'll learn more about this later."
   ]
  },
  {
   "cell_type": "code",
   "execution_count": 81,
   "metadata": {},
   "outputs": [],
   "source": [
    "# The MNIST datasets are hosted on yann.lecun.com that has moved under CloudFlare protection\n",
    "# Run this script to enable the datasets download\n",
    "# Reference: https://github.com/pytorch/vision/issues/1938\n",
    "\n",
    "from six.moves import urllib\n",
    "opener = urllib.request.build_opener()\n",
    "opener.addheaders = [('User-agent', 'Mozilla/5.0')]\n",
    "urllib.request.install_opener(opener)"
   ]
  },
  {
   "cell_type": "code",
   "execution_count": 83,
   "metadata": {},
   "outputs": [],
   "source": [
    "### Run this cell\n",
    "\n",
    "from torchvision import datasets, transforms\n",
    "\n",
    "# Define a transform to normalize the data\n",
    "transform = transforms.Compose([transforms.ToTensor(),\n",
    "                              transforms.Normalize((0.5,), (0.5,)),\n",
    "                              ])\n",
    "\n",
    "# Download and load the training data\n",
    "trainset = datasets.MNIST('~/.pytorch/MNIST_data/', download=True, train=True, transform=transform)\n",
    "trainloader = torch.utils.data.DataLoader(trainset, batch_size=64, shuffle=True)"
   ]
  },
  {
   "cell_type": "markdown",
   "metadata": {},
   "source": [
    "We have the training data loaded into `trainloader` and we make that an iterator with `iter(trainloader)`. Later, we'll use this to loop through the dataset for training, like\n",
    "\n",
    "```python\n",
    "for image, label in trainloader:\n",
    "    ## do things with images and labels\n",
    "```\n",
    "\n",
    "You'll notice I created the `trainloader` with a batch size of 64, and `shuffle=True`. The batch size is the number of images we get in one iteration from the data loader and pass through our network, often called a *batch*. And `shuffle=True` tells it to shuffle the dataset every time we start going through the data loader again. But here I'm just grabbing the first batch so we can check out the data. We can see below that `images` is just a tensor with size `(64, 1, 28, 28)`. So, 64 images per batch, 1 color channel, and 28x28 images."
   ]
  },
  {
   "cell_type": "code",
   "execution_count": 84,
   "metadata": {},
   "outputs": [
    {
     "name": "stdout",
     "output_type": "stream",
     "text": [
      "<class 'torch.Tensor'>\n",
      "torch.Size([64, 1, 28, 28])\n",
      "torch.Size([64])\n"
     ]
    }
   ],
   "source": [
    "dataiter = iter(trainloader)\n",
    "images, labels = next(dataiter)\n",
    "print(type(images))\n",
    "print(images.shape)\n",
    "print(labels.shape)"
   ]
  },
  {
   "cell_type": "code",
   "execution_count": 85,
   "metadata": {},
   "outputs": [
    {
     "name": "stdout",
     "output_type": "stream",
     "text": [
      "torch.Size([64, 1, 28, 28])\n"
     ]
    }
   ],
   "source": [
    "for image, label in trainloader:\n",
    "    print(image.shape)\n",
    "    break"
   ]
  },
  {
   "cell_type": "markdown",
   "metadata": {},
   "source": [
    "This is what one of the images looks like. "
   ]
  },
  {
   "cell_type": "code",
   "execution_count": 86,
   "metadata": {},
   "outputs": [
    {
     "data": {
      "image/png": "[encoded data removed]",
      "text/plain": [
       "<Figure size 640x480 with 1 Axes>"
      ]
     },
     "metadata": {
      "image/png": {
       "height": 413,
       "width": 416
      }
     },
     "output_type": "display_data"
    }
   ],
   "source": [
    "plt.imshow(images[1].numpy().squeeze(), cmap='Greys_r');"
   ]
  },
  {
   "cell_type": "markdown",
   "metadata": {},
   "source": [
    "First, let's try to build a simple network for this dataset using weight matrices and matrix multiplications. Then, we'll see how to do it using PyTorch's `nn` module which provides a much more convenient and powerful method for defining network architectures.\n",
    "\n",
    "The networks you've seen so far are called *fully-connected* or *dense* networks. Each unit in one layer is connected to each unit in the next layer. In fully-connected networks, the input to each layer must be a one-dimensional vector (which can be stacked into a 2D tensor as a batch of multiple examples). However, our images are 28x28 2D tensors, so we need to convert them into 1D vectors. Thinking about sizes, we need to convert the batch of images with shape `(64, 1, 28, 28)` to a have a shape of `(64, 784)`, 784 is 28 times 28. This is typically called *flattening*, we flattened the 2D images into 1D vectors.\n",
    "\n",
    "Previously you built a network with one output unit. Here we need 10 output units, one for each digit. We want our network to predict the digit shown in an image, so what we'll do is calculate probabilities that the image is of any one digit or class. This ends up being a discrete probability distribution over the classes (digits) that tells us the most likely class for the image. That means we need 10 output units for the 10 classes (digits). We'll see how to convert the network output into a probability distribution next.\n",
    "\n",
    "> **Exercise:** Flatten the batch of images `images`. Then build a multi-layer network with 784 input units, 256 hidden units, and 10 output units using random tensors for the weights and biases. For now, use a sigmoid activation for the hidden layer. Leave the output layer without an activation, we'll add one that gives us a probability distribution next."
   ]
  },
  {
   "cell_type": "code",
   "execution_count": 87,
   "metadata": {},
   "outputs": [
    {
     "data": {
      "text/plain": [
       "torch.Size([64, 1, 28, 28])"
      ]
     },
     "execution_count": 87,
     "metadata": {},
     "output_type": "execute_result"
    }
   ],
   "source": [
    "images.shape"
   ]
  },
  {
   "cell_type": "code",
   "execution_count": 88,
   "metadata": {},
   "outputs": [
    {
     "data": {
      "text/plain": [
       "1"
      ]
     },
     "execution_count": 88,
     "metadata": {},
     "output_type": "execute_result"
    }
   ],
   "source": [
    "images.shape[1]"
   ]
  },
  {
   "cell_type": "code",
   "execution_count": 89,
   "metadata": {},
   "outputs": [],
   "source": [
    "## Your solution\n",
    "\n",
    "def activation(x):\n",
    "    \"\"\" Sigmoid activation function \n",
    "    \n",
    "        Arguments\n",
    "        ---------\n",
    "        x: torch.Tensor\n",
    "    \"\"\"\n",
    "    return 1/(1+torch.exp(-x))\n",
    "\n",
    "images = torch.flatten(images, start_dim=1, end_dim=3)\n",
    "\n",
    "n_input = images.shape[1]\n",
    "n_hidden = 256\n",
    "n_output = 10\n",
    "\n",
    "W1 = torch.randn(n_input, n_hidden)\n",
    "W2 = torch.randn(n_hidden, n_output)\n",
    "\n",
    "B1 = torch.randn(n_hidden)\n",
    "B2 = torch.randn(n_output)\n",
    "\n",
    "out = torch.mm(activation(torch.mm(images, W1) + B1), W2) + B2\n",
    "# out = # output of your network, should have shape (64,10)"
   ]
  },
  {
   "cell_type": "code",
   "execution_count": 90,
   "metadata": {},
   "outputs": [
    {
     "data": {
      "text/plain": [
       "torch.Size([64, 10])"
      ]
     },
     "execution_count": 90,
     "metadata": {},
     "output_type": "execute_result"
    }
   ],
   "source": [
    "out.shape"
   ]
  },
  {
   "cell_type": "code",
   "execution_count": 91,
   "metadata": {},
   "outputs": [
    {
     "data": {
      "text/plain": [
       "tensor(1.)"
      ]
     },
     "execution_count": 91,
     "metadata": {},
     "output_type": "execute_result"
    }
   ],
   "source": [
    "torch.sum(torch.exp(out[1])/torch.sum(torch.exp(out[1])))"
   ]
  },
  {
   "cell_type": "code",
   "execution_count": 92,
   "metadata": {},
   "outputs": [
    {
     "ename": "RuntimeError",
     "evalue": "The size of tensor a (10) must match the size of tensor b (64) at non-singleton dimension 1",
     "output_type": "error",
     "traceback": [
      "\u001b[1;31m---------------------------------------------------------------------------\u001b[0m",
      "\u001b[1;31mRuntimeError\u001b[0m                              Traceback (most recent call last)",
      "Cell \u001b[1;32mIn[92], line 1\u001b[0m\n\u001b[1;32m----> 1\u001b[0m (torch\u001b[38;5;241m.\u001b[39mexp(out)\u001b[38;5;241m/\u001b[39mtorch\u001b[38;5;241m.\u001b[39msum(torch\u001b[38;5;241m.\u001b[39mexp(out), axis \u001b[38;5;241m=\u001b[39m \u001b[38;5;241m1\u001b[39m))\u001b[38;5;241m.\u001b[39mshape\n",
      "\u001b[1;31mRuntimeError\u001b[0m: The size of tensor a (10) must match the size of tensor b (64) at non-singleton dimension 1"
     ]
    }
   ],
   "source": [
    "(torch.exp(out)/torch.sum(torch.exp(out), axis = 1)).shape"
   ]
  },
  {
   "cell_type": "code",
   "execution_count": 93,
   "metadata": {},
   "outputs": [
    {
     "data": {
      "text/plain": [
       "torch.Size([64])"
      ]
     },
     "execution_count": 93,
     "metadata": {},
     "output_type": "execute_result"
    }
   ],
   "source": [
    "torch.sum(torch.exp(out), dim = 1).shape"
   ]
  },
  {
   "cell_type": "markdown",
   "metadata": {},
   "source": [
    "Now we have 10 outputs for our network. We want to pass in an image to our network and get out a probability distribution over the classes that tells us the likely class(es) the image belongs to. Something that looks like this:\n",
    "<img src='assets/image_distribution.png' width=500px>\n",
    "\n",
    "Here we see that the probability for each class is roughly the same. This is representing an untrained network, it hasn't seen any data yet so it just returns a uniform distribution with equal probabilities for each class.\n",
    "\n",
    "To calculate this probability distribution, we often use the [**softmax** function](https://en.wikipedia.org/wiki/Softmax_function). Mathematically this looks like\n",
    "\n",
    "$$\n",
    "\\Large \\sigma(x_i) = \\cfrac{e^{x_i}}{\\sum_k^K{e^{x_k}}}\n",
    "$$\n",
    "\n",
    "What this does is squish each input $x_i$ between 0 and 1 and normalizes the values to give you a proper probability distribution where the probabilites sum up to one.\n",
    "\n",
    "> **Exercise:** Implement a function `softmax` that performs the softmax calculation and returns probability distributions for each example in the batch. Note that you'll need to pay attention to the shapes when doing this. If you have a tensor `a` with shape `(64, 10)` and a tensor `b` with shape `(64,)`, doing `a/b` will give you an error because PyTorch will try to do the division across the columns (called broadcasting) but you'll get a size mismatch. The way to think about this is for each of the 64 examples, you only want to divide by one value, the sum in the denominator. So you need `b` to have a shape of `(64, 1)`. This way PyTorch will divide the 10 values in each row of `a` by the one value in each row of `b`. Pay attention to how you take the sum as well. You'll need to define the `dim` keyword in `torch.sum`. Setting `dim=0` takes the sum across the rows while `dim=1` takes the sum across the columns."
   ]
  },
  {
   "cell_type": "code",
   "execution_count": 94,
   "metadata": {},
   "outputs": [
    {
     "name": "stdout",
     "output_type": "stream",
     "text": [
      "torch.Size([64, 10])\n",
      "tensor([1.0000, 1.0000, 1.0000, 1.0000, 1.0000, 1.0000, 1.0000, 1.0000, 1.0000,\n",
      "        1.0000, 1.0000, 1.0000, 1.0000, 1.0000, 1.0000, 1.0000, 1.0000, 1.0000,\n",
      "        1.0000, 1.0000, 1.0000, 1.0000, 1.0000, 1.0000, 1.0000, 1.0000, 1.0000,\n",
      "        1.0000, 1.0000, 1.0000, 1.0000, 1.0000, 1.0000, 1.0000, 1.0000, 1.0000,\n",
      "        1.0000, 1.0000, 1.0000, 1.0000, 1.0000, 1.0000, 1.0000, 1.0000, 1.0000,\n",
      "        1.0000, 1.0000, 1.0000, 1.0000, 1.0000, 1.0000, 1.0000, 1.0000, 1.0000,\n",
      "        1.0000, 1.0000, 1.0000, 1.0000, 1.0000, 1.0000, 1.0000, 1.0000, 1.0000,\n",
      "        1.0000])\n"
     ]
    }
   ],
   "source": [
    "def softmax(x):\n",
    "    ## TODO: Implement the softmax function here\n",
    "    return (torch.exp(x)/torch.sum(torch.exp(x), dim = 1).view(64,1))\n",
    "        \n",
    "\n",
    "# Here, out should be the output of the network in the previous excercise with shape (64, 10)\n",
    "probabilities = softmax(out)\n",
    "\n",
    "# Does it have the right shape? Should be (64, 10)\n",
    "print(probabilities.shape)\n",
    "# Does it sum to 1?\n",
    "print(probabilities.sum(dim=1))"
   ]
  },
  {
   "cell_type": "code",
   "execution_count": 95,
   "metadata": {},
   "outputs": [
    {
     "data": {
      "text/plain": [
       "tensor(1.)"
      ]
     },
     "execution_count": 95,
     "metadata": {},
     "output_type": "execute_result"
    }
   ],
   "source": [
    "torch.sum(probabilities[0])"
   ]
  },
  {
   "cell_type": "markdown",
   "metadata": {},
   "source": [
    "## Building networks with PyTorch\n",
    "\n",
    "PyTorch provides a module `nn` that makes building networks much simpler. Here I'll show you how to build the same one as above with 784 inputs, 256 hidden units, 10 output units and a softmax output."
   ]
  },
  {
   "cell_type": "code",
   "execution_count": 96,
   "metadata": {},
   "outputs": [],
   "source": [
    "from torch import nn"
   ]
  },
  {
   "cell_type": "code",
   "execution_count": 97,
   "metadata": {},
   "outputs": [],
   "source": [
    "class Network(nn.Module):\n",
    "    def __init__(self):\n",
    "        super().__init__()\n",
    "        \n",
    "        # Inputs to hidden layer linear transformation\n",
    "        self.hidden = nn.Linear(784, 256)\n",
    "        # Output layer, 10 units - one for each digit\n",
    "        self.output = nn.Linear(256, 10)\n",
    "        \n",
    "        # Define sigmoid activation and softmax output \n",
    "        self.sigmoid = nn.Sigmoid()\n",
    "        self.softmax = nn.Softmax(dim=1)\n",
    "        \n",
    "    def forward(self, x):\n",
    "        # Pass the input tensor through each of our operations\n",
    "        x = self.hidden(x)\n",
    "        x = self.sigmoid(x)\n",
    "        x = self.output(x)\n",
    "        x = self.softmax(x)\n",
    "        \n",
    "        return x\n",
    "    \n",
    "a = Network()"
   ]
  },
  {
   "cell_type": "code",
   "execution_count": 98,
   "metadata": {},
   "outputs": [
    {
     "data": {
      "text/plain": [
       "torch.Size([256, 784])"
      ]
     },
     "execution_count": 98,
     "metadata": {},
     "output_type": "execute_result"
    }
   ],
   "source": [
    "a.hidden.weight.shape"
   ]
  },
  {
   "cell_type": "markdown",
   "metadata": {},
   "source": [
    "Let's go through this bit by bit.\n",
    "\n",
    "```python\n",
    "class Network(nn.Module):\n",
    "```\n",
    "\n",
    "Here we're inheriting from `nn.Module`. Combined with `super().__init__()` this creates a class that tracks the architecture and provides a lot of useful methods and attributes. It is mandatory to inherit from `nn.Module` when you're creating a class for your network. The name of the class itself can be anything.\n",
    "\n",
    "```python\n",
    "self.hidden = nn.Linear(784, 256)\n",
    "```\n",
    "\n",
    "This line creates a module for a linear transformation, $x\\mathbf{W} + b$, with 784 inputs and 256 outputs and assigns it to `self.hidden`. The module automatically creates the weight and bias tensors which we'll use in the `forward` method. You can access the weight and bias tensors once the network (`net`) is created with `net.hidden.weight` and `net.hidden.bias`.\n",
    "\n",
    "```python\n",
    "self.output = nn.Linear(256, 10)\n",
    "```\n",
    "\n",
    "Similarly, this creates another linear transformation with 256 inputs and 10 outputs.\n",
    "\n",
    "```python\n",
    "self.sigmoid = nn.Sigmoid()\n",
    "self.softmax = nn.Softmax(dim=1)\n",
    "```\n",
    "\n",
    "Here I defined operations for the sigmoid activation and softmax output. Setting `dim=1` in `nn.Softmax(dim=1)` calculates softmax across the columns.\n",
    "\n",
    "```python\n",
    "def forward(self, x):\n",
    "```\n",
    "\n",
    "PyTorch networks created with `nn.Module` must have a `forward` method defined. It takes in a tensor `x` and passes it through the operations you defined in the `__init__` method.\n",
    "\n",
    "```python\n",
    "x = self.hidden(x)\n",
    "x = self.sigmoid(x)\n",
    "x = self.output(x)\n",
    "x = self.softmax(x)\n",
    "```\n",
    "\n",
    "Here the input tensor `x` is passed through each operation and reassigned to `x`. We can see that the input tensor goes through the hidden layer, then a sigmoid function, then the output layer, and finally the softmax function. It doesn't matter what you name the variables here, as long as the inputs and outputs of the operations match the network architecture you want to build. The order in which you define things in the `__init__` method doesn't matter, but you'll need to sequence the operations correctly in the `forward` method.\n",
    "\n",
    "Now we can create a `Network` object."
   ]
  },
  {
   "cell_type": "code",
   "execution_count": 99,
   "metadata": {},
   "outputs": [
    {
     "data": {
      "text/plain": [
       "Network(\n",
       "  (hidden): Linear(in_features=784, out_features=256, bias=True)\n",
       "  (output): Linear(in_features=256, out_features=10, bias=True)\n",
       "  (sigmoid): Sigmoid()\n",
       "  (softmax): Softmax(dim=1)\n",
       ")"
      ]
     },
     "execution_count": 99,
     "metadata": {},
     "output_type": "execute_result"
    }
   ],
   "source": [
    "# Create the network and look at it's text representation\n",
    "model = Network()\n",
    "model"
   ]
  },
  {
   "cell_type": "markdown",
   "metadata": {},
   "source": [
    "You can define the network somewhat more concisely and clearly using the `torch.nn.functional` module. This is the most common way you'll see networks defined as many operations are simple element-wise functions. We normally import this module as `F`, `import torch.nn.functional as F`."
   ]
  },
  {
   "cell_type": "code",
   "execution_count": 100,
   "metadata": {},
   "outputs": [],
   "source": [
    "import torch.nn.functional as F\n",
    "\n",
    "class Network(nn.Module):\n",
    "    def __init__(self):\n",
    "        super().__init__()\n",
    "        # Inputs to hidden layer linear transformation\n",
    "        self.hidden = nn.Linear(784, 256)\n",
    "        # Output layer, 10 units - one for each digit\n",
    "        self.output = nn.Linear(256, 10)\n",
    "        \n",
    "    def forward(self, x):\n",
    "        # Hidden layer with sigmoid activation\n",
    "        x = F.sigmoid(self.hidden(x))\n",
    "        # Output layer with softmax activation\n",
    "        x = F.softmax(self.output(x), dim=1)\n",
    "        \n",
    "        return x"
   ]
  },
  {
   "cell_type": "markdown",
   "metadata": {},
   "source": [
    "### Activation functions\n",
    "\n",
    "So far we've only been looking at the sigmoid activation function, but in general any function can be used as an activation function. The only requirement is that for a network to approximate a non-linear function, the activation functions must be non-linear. Here are a few more examples of common activation functions: Tanh (hyperbolic tangent), and ReLU (rectified linear unit).\n",
    "\n",
    "<img src=\"assets/activation.png\" width=700px>\n",
    "\n",
    "In practice, the ReLU function is used almost exclusively as the activation function for hidden layers."
   ]
  },
  {
   "cell_type": "markdown",
   "metadata": {},
   "source": [
    "### Your Turn to Build a Network\n",
    "\n",
    "<img src=\"assets/mlp_mnist.png\" width=600px>\n",
    "\n",
    "> **Exercise:** Create a network with 784 input units, a hidden layer with 128 units and a ReLU activation, then a hidden layer with 64 units and a ReLU activation, and finally an output layer with a softmax activation as shown above. You can use a ReLU activation with the `nn.ReLU` module or `F.relu` function.\n",
    "\n",
    "It's good practice to name your layers by their type of network, for instance 'fc' to represent a fully-connected layer. As you code your solution, use `fc1`, `fc2`, and `fc3` as your layer names."
   ]
  },
  {
   "cell_type": "code",
   "execution_count": 109,
   "metadata": {
    "scrolled": true
   },
   "outputs": [],
   "source": [
    "## Your solution here\n",
    "import torch.nn.functional as F\n",
    "\n",
    "class Network(nn.Module):\n",
    "    def __init__(self):\n",
    "        super().__init__()\n",
    "        # Inputs to hidden layer linear transformation\n",
    "        self.fc1 = nn.Linear(784, 128)\n",
    "        self.fc2 = nn.Linear(128, 64)\n",
    "        # Output layer, 10 units - one for each digit\n",
    "        self.fc3 = nn.Linear(64, 10)\n",
    "        \n",
    "    def forward(self, x):\n",
    "        # Hidden layer with sigmoid activation\n",
    "        x = F.relu(self.fc1(x))\n",
    "        x = F.relu(self.fc2(x))\n",
    "        # Output layer with softmax activation\n",
    "        x = F.softmax(self.fc3(x), dim=1)\n",
    "        \n",
    "        return x"
   ]
  },
  {
   "cell_type": "code",
   "execution_count": 110,
   "metadata": {},
   "outputs": [
    {
     "data": {
      "text/plain": [
       "Network(\n",
       "  (fc1): Linear(in_features=784, out_features=128, bias=True)\n",
       "  (fc2): Linear(in_features=128, out_features=64, bias=True)\n",
       "  (fc3): Linear(in_features=64, out_features=10, bias=True)\n",
       ")"
      ]
     },
     "execution_count": 110,
     "metadata": {},
     "output_type": "execute_result"
    }
   ],
   "source": [
    "model = Network()\n",
    "model"
   ]
  },
  {
   "cell_type": "markdown",
   "metadata": {},
   "source": [
    "### Initializing weights and biases\n",
    "\n",
    "The weights and such are automatically initialized for you, but it's possible to customize how they are initialized. The weights and biases are tensors attached to the layer you defined, you can get them with `model.fc1.weight` for instance."
   ]
  },
  {
   "cell_type": "code",
   "execution_count": 111,
   "metadata": {},
   "outputs": [
    {
     "name": "stdout",
     "output_type": "stream",
     "text": [
      "Parameter containing:\n",
      "tensor([[ 1.6516e-03, -2.8244e-03,  3.6822e-03,  ..., -2.3475e-02,\n",
      "          2.1234e-02, -2.5334e-02],\n",
      "        [ 3.2288e-02, -6.4762e-03,  8.2888e-05,  ...,  1.9660e-02,\n",
      "          7.4987e-03,  2.5173e-03],\n",
      "        [ 1.1296e-02, -2.6249e-02, -1.3915e-02,  ...,  2.0645e-02,\n",
      "          3.4751e-02, -3.4887e-02],\n",
      "        ...,\n",
      "        [-2.9858e-02,  2.0404e-02, -8.1558e-03,  ..., -2.4745e-02,\n",
      "         -1.1077e-02, -2.1152e-02],\n",
      "        [ 3.2467e-02, -2.4752e-02,  8.3791e-03,  ..., -3.1537e-02,\n",
      "         -1.0469e-02, -2.2292e-02],\n",
      "        [ 3.2949e-02, -2.2401e-02, -1.0965e-02,  ...,  1.8965e-02,\n",
      "         -2.9018e-02,  9.3497e-03]], requires_grad=True)\n",
      "Parameter containing:\n",
      "tensor([ 0.0221,  0.0024,  0.0145, -0.0098,  0.0196,  0.0037, -0.0212,  0.0142,\n",
      "        -0.0227,  0.0062,  0.0223,  0.0184, -0.0082, -0.0268,  0.0062,  0.0284,\n",
      "         0.0020,  0.0075,  0.0267,  0.0257,  0.0268, -0.0061, -0.0355,  0.0333,\n",
      "         0.0331, -0.0252,  0.0296, -0.0132, -0.0224, -0.0321,  0.0227, -0.0026,\n",
      "        -0.0031, -0.0341, -0.0196,  0.0297, -0.0187, -0.0090, -0.0036, -0.0117,\n",
      "        -0.0228,  0.0078, -0.0124, -0.0321,  0.0101, -0.0328, -0.0244, -0.0184,\n",
      "        -0.0222,  0.0131, -0.0115, -0.0200, -0.0163,  0.0172, -0.0058,  0.0289,\n",
      "        -0.0342, -0.0052,  0.0032, -0.0181, -0.0207, -0.0350,  0.0342,  0.0160,\n",
      "        -0.0239,  0.0101,  0.0240, -0.0324, -0.0250, -0.0287, -0.0157,  0.0063,\n",
      "         0.0066,  0.0098, -0.0318,  0.0351, -0.0012,  0.0084,  0.0328,  0.0119,\n",
      "        -0.0114, -0.0179,  0.0340, -0.0328, -0.0286, -0.0338, -0.0296,  0.0069,\n",
      "         0.0111, -0.0177,  0.0132,  0.0298,  0.0053, -0.0344,  0.0152,  0.0336,\n",
      "         0.0119, -0.0353, -0.0121, -0.0173,  0.0110, -0.0233,  0.0348, -0.0004,\n",
      "         0.0252, -0.0178,  0.0109,  0.0191, -0.0228,  0.0241,  0.0083,  0.0232,\n",
      "         0.0248, -0.0151,  0.0253,  0.0281,  0.0050, -0.0085,  0.0058, -0.0081,\n",
      "         0.0121, -0.0159,  0.0337,  0.0297,  0.0047,  0.0171, -0.0082, -0.0284],\n",
      "       requires_grad=True)\n"
     ]
    }
   ],
   "source": [
    "print(model.fc1.weight)\n",
    "print(model.fc1.bias)"
   ]
  },
  {
   "cell_type": "markdown",
   "metadata": {},
   "source": [
    "### Weights for first hidden neuron"
   ]
  },
  {
   "cell_type": "code",
   "execution_count": 112,
   "metadata": {},
   "outputs": [
    {
     "data": {
      "text/plain": [
       "tensor([ 1.6516e-03, -2.8244e-03,  3.6822e-03,  1.4836e-02, -1.5281e-02,\n",
       "        -2.8653e-02, -2.9426e-02, -3.2152e-02,  6.9644e-03, -8.9195e-03,\n",
       "        -9.7897e-04,  2.1539e-02,  1.1148e-02,  1.7322e-02, -1.0238e-02,\n",
       "        -5.4566e-03,  2.3248e-02, -1.3998e-02, -2.7652e-02, -3.5181e-02,\n",
       "        -3.0773e-02,  1.3163e-02,  1.5271e-02, -3.4761e-02,  2.8650e-02,\n",
       "         3.1949e-02, -1.1307e-02,  1.5194e-02, -1.8362e-02, -2.8595e-02,\n",
       "         2.9060e-02, -2.6701e-02, -8.3608e-03, -6.9663e-03, -1.6543e-03,\n",
       "         6.6188e-03,  3.2380e-02, -3.5215e-03, -1.7199e-02, -1.3651e-03,\n",
       "        -2.7664e-02, -1.7236e-02, -2.0834e-02,  3.1350e-02,  2.8963e-02,\n",
       "         1.8669e-02,  2.2596e-02, -2.2726e-02,  3.6930e-03, -9.9649e-03,\n",
       "        -1.8677e-02,  3.5082e-02, -3.4317e-02, -1.0593e-02, -3.5603e-02,\n",
       "        -5.2075e-03,  1.0515e-03, -4.5501e-03,  2.0209e-02,  8.7084e-03,\n",
       "         1.8721e-02, -5.8639e-03, -7.1088e-03,  3.1907e-02,  1.5893e-02,\n",
       "        -2.7665e-02, -6.7431e-03, -4.5490e-03,  2.2729e-02,  2.2164e-02,\n",
       "         3.3927e-02, -3.0704e-02, -2.6440e-02, -2.1608e-02,  6.1643e-03,\n",
       "         1.4538e-02,  1.8978e-02, -2.1222e-02,  1.9017e-02, -2.2906e-03,\n",
       "        -3.5146e-02,  2.6919e-02,  3.4279e-02,  5.6472e-03,  7.5194e-03,\n",
       "        -2.2440e-02, -2.5389e-03,  2.3181e-03, -7.8157e-03, -7.6138e-03,\n",
       "        -2.0077e-02,  2.1075e-02,  1.3992e-02,  1.2293e-02,  1.0853e-02,\n",
       "        -3.5151e-03,  9.5643e-03, -2.9135e-02, -4.1441e-03,  1.5045e-02,\n",
       "        -2.0644e-02,  1.4298e-02, -2.6917e-02, -3.4634e-02, -3.0983e-02,\n",
       "         1.6921e-02,  4.4512e-03,  2.7535e-03, -2.3540e-02,  9.6681e-03,\n",
       "        -3.3547e-02,  3.4977e-02,  3.2437e-02,  1.0199e-02,  2.1873e-02,\n",
       "         2.8634e-02, -2.5662e-02, -2.4602e-02,  2.2603e-02, -3.1864e-02,\n",
       "        -6.7851e-03,  1.6261e-02,  2.1126e-02, -2.0911e-02,  1.8370e-02,\n",
       "        -3.1141e-02, -1.4470e-02,  5.1341e-03, -2.8721e-02,  1.2811e-03,\n",
       "        -3.2475e-02,  6.2564e-03, -3.1295e-02, -7.4364e-03,  8.4474e-03,\n",
       "         2.5390e-02, -3.4690e-02, -2.9692e-02,  2.4422e-02,  3.4521e-02,\n",
       "         3.2269e-02,  1.7666e-02, -5.1748e-03,  1.8679e-02, -2.3300e-02,\n",
       "        -3.0485e-02, -9.8561e-03, -4.7380e-03, -1.1368e-02, -3.2462e-03,\n",
       "        -2.4513e-02, -1.9471e-02,  2.5064e-02,  2.3310e-02,  9.9670e-03,\n",
       "         1.5759e-03,  2.2452e-02,  2.5608e-02, -6.0115e-03,  1.6787e-02,\n",
       "        -2.7088e-02,  1.8016e-02,  3.4198e-02,  1.6679e-02,  3.5361e-02,\n",
       "        -2.1355e-02,  9.4373e-05, -2.7614e-02,  1.2813e-02,  2.1788e-03,\n",
       "         1.1836e-02, -7.8411e-03,  3.5278e-03,  1.1530e-02,  3.4611e-02,\n",
       "         1.2444e-02,  3.2812e-02, -1.7418e-02,  3.2794e-02,  1.5426e-02,\n",
       "         9.0310e-03, -7.6183e-03,  3.6435e-03, -2.3893e-03,  3.3821e-02,\n",
       "        -1.8589e-02, -2.4276e-02, -2.8119e-02, -4.0727e-03,  2.4374e-03,\n",
       "         2.2268e-02,  1.1541e-02,  3.1375e-02, -1.6685e-02,  1.0200e-02,\n",
       "         2.5060e-02,  6.0481e-03, -7.3639e-04, -3.2911e-02, -1.8102e-02,\n",
       "        -3.2992e-03, -6.7700e-03, -8.7169e-03, -1.5598e-02,  8.5035e-03,\n",
       "         6.5852e-03,  1.9445e-02,  3.5348e-02,  2.0613e-02,  1.6332e-03,\n",
       "        -1.5483e-02, -3.2790e-02,  2.9593e-02, -3.4832e-02, -2.6390e-03,\n",
       "         1.6312e-02, -2.0018e-03, -3.2830e-02,  8.5262e-03, -1.4210e-02,\n",
       "        -9.1967e-03,  2.6665e-02,  1.0263e-02,  3.5498e-03, -3.1181e-02,\n",
       "        -8.5332e-03, -1.9833e-02, -8.5625e-03,  2.8753e-02,  9.7033e-03,\n",
       "         9.5886e-03,  2.1397e-02,  1.5227e-02,  1.2882e-02, -8.0070e-03,\n",
       "         1.1238e-02,  1.7779e-02,  3.1684e-02,  2.4180e-02, -1.0086e-02,\n",
       "         2.4337e-02,  1.6882e-02,  9.3262e-03, -1.2239e-02,  2.0363e-02,\n",
       "         2.3358e-02,  3.5120e-02,  3.3936e-02, -2.5871e-03,  2.1396e-02,\n",
       "        -2.6124e-03,  3.4960e-03, -2.1835e-02, -2.2580e-02, -3.1769e-02,\n",
       "        -2.5225e-02,  7.1480e-03,  3.0606e-02, -1.8484e-02, -3.4281e-02,\n",
       "         2.2773e-02,  1.0946e-02,  8.2648e-03, -9.9576e-03, -3.2245e-02,\n",
       "        -1.3893e-02, -2.1276e-02,  5.7111e-03,  3.5165e-02,  1.6804e-02,\n",
       "        -2.0186e-02, -1.8846e-02, -2.7600e-02, -3.3902e-02,  2.8159e-02,\n",
       "        -1.6340e-02, -3.0390e-02, -1.0418e-02, -3.2969e-02,  2.7568e-02,\n",
       "        -2.6165e-03, -3.5440e-02, -1.9415e-02,  1.4131e-02, -1.0835e-02,\n",
       "         2.2113e-02,  3.4416e-02,  3.4529e-02, -1.6733e-02,  4.2904e-04,\n",
       "        -2.0404e-02,  6.9851e-03, -3.0399e-02,  2.0786e-02, -3.5577e-02,\n",
       "        -2.9341e-02, -7.0830e-03, -2.6343e-03,  4.3325e-03,  2.9693e-02,\n",
       "        -3.2730e-02,  1.3801e-02,  1.4213e-02,  2.2714e-02, -5.0325e-03,\n",
       "        -1.4993e-02, -2.2716e-02, -2.6681e-02, -3.1180e-02,  3.0026e-02,\n",
       "         2.4839e-02,  1.2776e-02, -3.3472e-02, -2.4562e-02,  8.9075e-03,\n",
       "        -1.5927e-02,  4.8407e-04,  3.4990e-03,  2.4130e-02, -2.6131e-02,\n",
       "         1.9521e-02,  1.2013e-02, -6.0172e-03,  1.0344e-02, -2.3900e-02,\n",
       "         2.9052e-02,  2.0320e-02, -1.6879e-02,  4.4311e-04,  3.2378e-02,\n",
       "         8.8297e-03,  3.2875e-02, -6.0124e-03, -1.6462e-02,  2.4536e-02,\n",
       "         3.3219e-02,  1.1624e-02,  1.3216e-02,  5.1827e-03, -1.8203e-02,\n",
       "         3.5705e-03, -2.4243e-02, -1.2775e-03,  2.9909e-03,  7.2560e-03,\n",
       "         7.0498e-03,  1.7153e-02, -2.3161e-02,  2.2512e-02, -2.5900e-02,\n",
       "        -2.5564e-02,  1.8214e-02, -5.0628e-03, -1.6484e-02,  1.0905e-03,\n",
       "         3.4868e-02, -2.7269e-02, -4.3589e-03,  6.1015e-03,  1.1683e-02,\n",
       "         2.8266e-02, -2.1756e-02, -6.5020e-03,  1.1991e-02, -8.2214e-03,\n",
       "         3.4322e-02,  2.1722e-02,  1.6328e-02, -1.2117e-02,  1.3661e-02,\n",
       "         1.1111e-02, -1.2814e-02,  1.3430e-02,  1.0333e-02,  6.4661e-03,\n",
       "        -2.9121e-02, -1.8706e-02,  1.7659e-02,  3.3957e-03,  1.6961e-03,\n",
       "        -3.2026e-02,  1.5061e-02,  1.7423e-02, -3.2421e-02,  2.5592e-02,\n",
       "         1.6451e-02,  7.3329e-03,  3.4995e-02,  1.3351e-02, -8.8812e-03,\n",
       "         3.8046e-03, -2.7442e-02, -2.3446e-02,  9.1620e-03, -1.3997e-02,\n",
       "         6.1507e-03,  2.6806e-02,  4.4026e-03,  2.7390e-02, -2.6565e-02,\n",
       "        -2.7132e-02, -2.5192e-02,  2.1445e-02, -3.2433e-02, -9.5219e-03,\n",
       "         2.0599e-02, -2.4994e-02,  1.1255e-02, -1.9521e-02, -9.3774e-03,\n",
       "         2.5391e-02,  1.2463e-02,  1.8345e-02,  2.2369e-02,  1.7994e-02,\n",
       "        -2.4105e-02,  1.9414e-02, -3.3567e-02, -4.1816e-03, -1.7754e-02,\n",
       "        -1.6023e-02, -1.9471e-03,  1.8862e-02,  1.2284e-02,  3.2928e-02,\n",
       "         8.9354e-03,  1.2018e-03,  1.9729e-02,  6.0601e-03,  1.4128e-02,\n",
       "         1.5796e-02, -6.5457e-03,  5.6149e-03,  1.9705e-02, -2.8729e-02,\n",
       "         1.2479e-02, -2.7254e-02,  3.5179e-02, -6.7264e-03,  3.4815e-02,\n",
       "        -1.7887e-02, -3.2817e-02,  5.9400e-03,  2.0317e-02,  6.9904e-03,\n",
       "        -1.4698e-02, -3.1050e-02,  8.8132e-03, -2.3069e-02, -9.2127e-03,\n",
       "        -3.3909e-02, -1.9324e-02, -2.5618e-02,  1.3082e-02,  2.7556e-02,\n",
       "         1.4973e-02, -1.9622e-02, -2.6084e-02, -2.7707e-02,  3.4574e-03,\n",
       "        -4.9061e-03,  1.8119e-02, -6.9486e-03, -1.2564e-02, -3.4144e-02,\n",
       "         7.9180e-03,  2.9687e-02, -2.4951e-03, -9.8339e-03,  3.6408e-04,\n",
       "         3.0858e-02,  1.0074e-02,  2.9280e-02,  1.5484e-02,  1.2559e-02,\n",
       "        -3.2503e-02,  5.1910e-03,  6.6406e-03, -3.4733e-02, -1.3895e-02,\n",
       "         2.6266e-02,  9.8883e-03, -3.0198e-02,  1.3900e-02, -3.0482e-02,\n",
       "        -2.1440e-02, -2.5424e-02, -5.6388e-03,  3.0606e-02, -3.2957e-02,\n",
       "         3.0471e-02, -3.0592e-02, -3.9909e-03,  2.0284e-02, -9.0558e-03,\n",
       "        -3.4504e-03, -1.0879e-02, -1.1883e-02, -2.7050e-02, -1.1250e-02,\n",
       "         2.2415e-02,  3.7641e-03, -2.3001e-02,  3.0420e-02,  9.8542e-03,\n",
       "         2.6596e-02, -1.7569e-02,  3.0083e-02,  9.1854e-03, -2.2719e-02,\n",
       "         9.7438e-04,  2.5358e-02, -5.7383e-03, -1.3978e-02, -2.0591e-02,\n",
       "        -3.0304e-02,  4.2763e-03, -1.5109e-02, -3.2052e-02,  2.1388e-02,\n",
       "        -1.2082e-02,  3.1658e-03, -1.8505e-03,  1.3675e-02, -2.2869e-03,\n",
       "         1.8928e-02,  1.5395e-02,  2.8787e-02, -1.5423e-02, -2.4898e-02,\n",
       "        -2.6871e-02, -1.5178e-02, -1.2757e-03,  2.6357e-02, -1.4256e-02,\n",
       "        -2.7837e-03,  6.9458e-03,  3.4697e-02, -2.6219e-02, -4.9504e-03,\n",
       "         3.2930e-03,  2.5448e-02, -1.8641e-02, -3.2432e-02,  3.1644e-02,\n",
       "        -5.3966e-04,  3.0064e-02,  2.3944e-02,  3.1185e-02,  3.0492e-02,\n",
       "         5.3446e-03,  3.5607e-02, -1.5755e-02,  3.4473e-02, -2.8283e-02,\n",
       "        -6.3011e-03, -1.3414e-02,  1.1452e-03,  1.0297e-02, -3.4435e-02,\n",
       "         1.7894e-02,  2.0725e-02, -3.4404e-04,  1.4923e-02,  2.4248e-02,\n",
       "         2.4036e-02,  5.3143e-03,  7.8305e-03, -2.8677e-02,  2.7719e-02,\n",
       "        -1.7272e-02,  2.2810e-02, -2.6489e-02, -1.2641e-02, -3.6566e-03,\n",
       "        -1.5857e-03,  1.4987e-02, -5.6386e-03,  2.5132e-02, -3.1055e-02,\n",
       "         6.3067e-03, -3.2423e-02, -2.1478e-02,  1.5354e-02,  2.5629e-02,\n",
       "         2.8426e-02,  1.4495e-02,  2.0235e-02,  3.4871e-02,  1.2037e-02,\n",
       "        -2.0366e-02, -3.4656e-02,  2.3598e-02, -1.9289e-04,  3.9430e-03,\n",
       "         3.3704e-03,  1.6546e-02,  2.7337e-02, -2.7488e-02, -2.7973e-03,\n",
       "        -3.0226e-02,  1.2993e-02, -3.0250e-02,  2.2425e-02,  2.0263e-02,\n",
       "        -2.5914e-02, -2.7890e-03,  3.3657e-02, -2.9155e-02,  8.2989e-03,\n",
       "        -2.1534e-02, -1.7074e-02, -1.2701e-03, -7.0684e-03,  1.1798e-02,\n",
       "         1.9756e-02,  3.3240e-02,  2.3126e-02,  7.2982e-03, -3.4389e-02,\n",
       "        -1.8545e-02,  1.6398e-02, -1.2016e-02,  2.6470e-02, -1.5460e-02,\n",
       "        -3.3648e-02,  2.6618e-02,  2.7325e-02,  1.4530e-02, -3.4279e-02,\n",
       "        -3.3566e-02,  2.8351e-02,  3.9775e-03, -3.5531e-02,  3.2369e-02,\n",
       "        -2.1390e-02,  3.2546e-03, -2.0648e-02,  2.6409e-02,  2.9049e-02,\n",
       "        -1.5838e-02,  1.9744e-02,  3.4233e-02, -7.8654e-03, -2.2539e-02,\n",
       "         6.2483e-04,  2.5475e-03,  9.7886e-03, -6.1192e-03, -1.8403e-02,\n",
       "         1.6753e-02,  2.9830e-02,  2.3729e-02,  3.5098e-02,  1.3819e-02,\n",
       "         2.0426e-02, -3.4448e-02, -3.0351e-02, -1.8965e-02, -1.2709e-03,\n",
       "        -1.7510e-02,  2.8853e-02, -1.3193e-02, -1.7376e-03, -4.9512e-03,\n",
       "        -1.1399e-02,  2.8480e-02, -3.9569e-03, -2.8257e-02,  2.1024e-02,\n",
       "        -2.6603e-02,  1.6895e-03, -2.2422e-02, -3.0116e-02,  1.9120e-02,\n",
       "        -2.7324e-02,  2.6573e-02,  1.8587e-02,  3.0265e-02,  1.1256e-02,\n",
       "         2.6618e-02,  2.6273e-02, -2.0355e-03,  4.1504e-04, -2.1083e-02,\n",
       "        -1.6271e-02,  1.6637e-02,  2.9197e-02,  2.4241e-02, -9.5846e-03,\n",
       "        -1.4987e-02, -2.9687e-02,  2.8088e-02, -9.7764e-03, -1.3141e-02,\n",
       "         8.2403e-03,  2.7280e-02, -3.4862e-02,  2.3966e-02, -3.0021e-02,\n",
       "        -2.8668e-02, -3.8994e-03, -2.1250e-03, -4.3725e-03,  2.2586e-02,\n",
       "         2.0825e-04, -1.7137e-02,  2.6989e-02,  3.6421e-03,  2.9438e-02,\n",
       "        -1.9387e-02, -3.2577e-02,  1.6671e-02,  2.1546e-02, -8.1495e-03,\n",
       "        -3.0320e-02,  9.8545e-03, -3.2534e-02,  1.7176e-02,  8.9902e-03,\n",
       "         5.5817e-03,  1.2677e-02,  1.3203e-02,  1.9537e-02,  9.0908e-03,\n",
       "        -6.3566e-04, -8.0648e-03, -3.4735e-02, -9.8585e-03, -8.8376e-03,\n",
       "        -1.4589e-02, -1.7658e-02, -1.1949e-02, -2.6577e-02,  1.6709e-02,\n",
       "         3.1559e-02,  3.0192e-02, -1.1740e-02,  1.0018e-02, -1.6151e-02,\n",
       "        -2.0846e-02,  3.6741e-03, -1.1264e-02, -1.0857e-03,  1.4924e-02,\n",
       "         2.7893e-02,  1.2177e-02, -2.3688e-02, -2.4840e-02, -1.8195e-02,\n",
       "         2.2774e-02,  1.2180e-03,  1.5934e-02, -8.6498e-03, -8.5048e-03,\n",
       "         2.4310e-02, -1.1860e-02, -7.1320e-03,  4.8096e-03,  3.3579e-02,\n",
       "         9.7580e-03, -2.2734e-02, -6.0233e-03, -2.1169e-02, -5.8211e-03,\n",
       "        -3.0792e-02,  2.2664e-02, -3.3208e-02,  2.8914e-02, -8.4438e-03,\n",
       "         2.0487e-02, -4.4624e-03,  8.2715e-04,  1.5685e-02, -2.2321e-02,\n",
       "        -1.0880e-02, -1.0723e-02,  3.5544e-02,  2.1372e-02, -3.4717e-02,\n",
       "         2.8317e-02, -2.3475e-02,  2.1234e-02, -2.5334e-02],\n",
       "       grad_fn=<SelectBackward0>)"
      ]
     },
     "execution_count": 112,
     "metadata": {},
     "output_type": "execute_result"
    }
   ],
   "source": [
    "model.fc1.weight[0]"
   ]
  },
  {
   "cell_type": "markdown",
   "metadata": {},
   "source": [
    "For custom initialization, we want to modify these tensors in place. These are actually autograd *Variables*, so we need to get back the actual tensors with `model.fc1.weight.data`. Once we have the tensors, we can fill them with zeros (for biases) or random normal values."
   ]
  },
  {
   "cell_type": "code",
   "execution_count": 113,
   "metadata": {},
   "outputs": [
    {
     "data": {
      "text/plain": [
       "tensor([0., 0., 0., 0., 0., 0., 0., 0., 0., 0., 0., 0., 0., 0., 0., 0., 0., 0., 0., 0., 0., 0., 0., 0.,\n",
       "        0., 0., 0., 0., 0., 0., 0., 0., 0., 0., 0., 0., 0., 0., 0., 0., 0., 0., 0., 0., 0., 0., 0., 0.,\n",
       "        0., 0., 0., 0., 0., 0., 0., 0., 0., 0., 0., 0., 0., 0., 0., 0., 0., 0., 0., 0., 0., 0., 0., 0.,\n",
       "        0., 0., 0., 0., 0., 0., 0., 0., 0., 0., 0., 0., 0., 0., 0., 0., 0., 0., 0., 0., 0., 0., 0., 0.,\n",
       "        0., 0., 0., 0., 0., 0., 0., 0., 0., 0., 0., 0., 0., 0., 0., 0., 0., 0., 0., 0., 0., 0., 0., 0.,\n",
       "        0., 0., 0., 0., 0., 0., 0., 0.])"
      ]
     },
     "execution_count": 113,
     "metadata": {},
     "output_type": "execute_result"
    }
   ],
   "source": [
    "# Set biases to all zeros\n",
    "model.fc1.bias.data.fill_(0)"
   ]
  },
  {
   "cell_type": "code",
   "execution_count": 114,
   "metadata": {},
   "outputs": [
    {
     "data": {
      "text/plain": [
       "tensor([[-0.0016, -0.0085,  0.0008,  ...,  0.0075, -0.0005, -0.0049],\n",
       "        [-0.0036, -0.0189, -0.0216,  ..., -0.0003,  0.0046, -0.0029],\n",
       "        [-0.0045, -0.0021,  0.0016,  ...,  0.0100, -0.0052,  0.0013],\n",
       "        ...,\n",
       "        [ 0.0068,  0.0028, -0.0113,  ...,  0.0028, -0.0049, -0.0147],\n",
       "        [ 0.0285, -0.0091, -0.0035,  ...,  0.0088, -0.0017, -0.0030],\n",
       "        [ 0.0191, -0.0191,  0.0251,  ..., -0.0153, -0.0015,  0.0019]])"
      ]
     },
     "execution_count": 114,
     "metadata": {},
     "output_type": "execute_result"
    }
   ],
   "source": [
    "# sample from random normal with standard dev = 0.01\n",
    "model.fc1.weight.data.normal_(std=0.01)"
   ]
  },
  {
   "cell_type": "markdown",
   "metadata": {},
   "source": [
    "### Forward pass\n",
    "\n",
    "Now that we have a network, let's see what happens when we pass in an image."
   ]
  },
  {
   "cell_type": "code",
   "execution_count": 115,
   "metadata": {},
   "outputs": [
    {
     "data": {
      "image/png": "[encoded data removed]",
      "text/plain": [
       "<Figure size 600x900 with 2 Axes>"
      ]
     },
     "metadata": {
      "image/png": {
       "height": 327,
       "width": 589
      }
     },
     "output_type": "display_data"
    }
   ],
   "source": [
    "# Grab some data \n",
    "dataiter = iter(trainloader)\n",
    "images, labels = next(dataiter)\n",
    "\n",
    "# Resize images into a 1D vector, new shape is (batch size, color channels, image pixels) \n",
    "images.resize_(64, 1, 784)\n",
    "# or images.resize_(images.shape[0], 1, 784) to automatically get batch size\n",
    "\n",
    "# Forward pass through the network\n",
    "img_idx = 0\n",
    "ps = model.forward(images[img_idx,:])\n",
    "\n",
    "img = images[img_idx]\n",
    "helper.view_classify(img.view(1, 28, 28), ps)"
   ]
  },
  {
   "cell_type": "code",
   "execution_count": 116,
   "metadata": {},
   "outputs": [
    {
     "data": {
      "text/plain": [
       "tensor([[0.1094, 0.1065, 0.1115, 0.0927, 0.0960, 0.0916, 0.0973, 0.0774, 0.1130,\n",
       "         0.1047]], grad_fn=<SoftmaxBackward0>)"
      ]
     },
     "execution_count": 116,
     "metadata": {},
     "output_type": "execute_result"
    }
   ],
   "source": [
    "ps"
   ]
  },
  {
   "cell_type": "markdown",
   "metadata": {},
   "source": [
    "As you can see above, our network has basically no idea what this digit is. It's because we haven't trained it yet, all the weights are random!\n",
    "\n",
    "### Using `nn.Sequential`\n",
    "\n",
    "PyTorch provides a convenient way to build networks like this where a tensor is passed sequentially through operations, `nn.Sequential` ([documentation](https://pytorch.org/docs/master/nn.html#torch.nn.Sequential)). Using this to build the equivalent network:"
   ]
  },
  {
   "cell_type": "code",
   "execution_count": 117,
   "metadata": {},
   "outputs": [
    {
     "name": "stdout",
     "output_type": "stream",
     "text": [
      "Sequential(\n",
      "  (0): Linear(in_features=784, out_features=128, bias=True)\n",
      "  (1): ReLU()\n",
      "  (2): Linear(in_features=128, out_features=64, bias=True)\n",
      "  (3): ReLU()\n",
      "  (4): Linear(in_features=64, out_features=10, bias=True)\n",
      "  (5): Softmax(dim=1)\n",
      ")\n"
     ]
    },
    {
     "data": {
      "image/png": "[encoded data removed]",
      "text/plain": [
       "<Figure size 600x900 with 2 Axes>"
      ]
     },
     "metadata": {
      "image/png": {
       "height": 327,
       "width": 589
      }
     },
     "output_type": "display_data"
    }
   ],
   "source": [
    "# Hyperparameters for our network\n",
    "input_size = 784\n",
    "hidden_sizes = [128, 64]\n",
    "output_size = 10\n",
    "\n",
    "# Build a feed-forward network\n",
    "model = nn.Sequential(nn.Linear(input_size, hidden_sizes[0]),\n",
    "                      nn.ReLU(),\n",
    "                      nn.Linear(hidden_sizes[0], hidden_sizes[1]),\n",
    "                      nn.ReLU(),\n",
    "                      nn.Linear(hidden_sizes[1], output_size),\n",
    "                      nn.Softmax(dim=1))\n",
    "print(model)\n",
    "\n",
    "# Forward pass through the network and display output\n",
    "images, labels = next(iter(trainloader))\n",
    "images.resize_(images.shape[0], 1, 784)\n",
    "ps = model.forward(images[0,:])\n",
    "helper.view_classify(images[0].view(1, 28, 28), ps)"
   ]
  },
  {
   "cell_type": "markdown",
   "metadata": {},
   "source": [
    "Here our model is the same as before: 784 input units, a hidden layer with 128 units, ReLU activation, 64 unit hidden layer, another ReLU, then the output layer with 10 units, and the softmax output.\n",
    "\n",
    "The operations are available by passing in the appropriate index. For example, if you want to get first Linear operation and look at the weights, you'd use `model[0]`."
   ]
  },
  {
   "cell_type": "code",
   "execution_count": 119,
   "metadata": {},
   "outputs": [
    {
     "name": "stdout",
     "output_type": "stream",
     "text": [
      "Linear(in_features=784, out_features=128, bias=True)\n"
     ]
    },
    {
     "data": {
      "text/plain": [
       "torch.Size([128, 784])"
      ]
     },
     "execution_count": 119,
     "metadata": {},
     "output_type": "execute_result"
    }
   ],
   "source": [
    "print(model[0])\n",
    "model[0].weight.shape"
   ]
  },
  {
   "cell_type": "markdown",
   "metadata": {},
   "source": [
    "You can also pass in an `OrderedDict` to name the individual layers and operations, instead of using incremental integers. Note that dictionary keys must be unique, so _each operation must have a different name_."
   ]
  },
  {
   "cell_type": "code",
   "execution_count": 121,
   "metadata": {},
   "outputs": [
    {
     "data": {
      "text/plain": [
       "Sequential(\n",
       "  (fc1): Linear(in_features=784, out_features=128, bias=True)\n",
       "  (relu1): ReLU()\n",
       "  (fc2): Linear(in_features=128, out_features=64, bias=True)\n",
       "  (relu2): ReLU()\n",
       "  (output): Linear(in_features=64, out_features=10, bias=True)\n",
       "  (softmax): Softmax(dim=1)\n",
       ")"
      ]
     },
     "execution_count": 121,
     "metadata": {},
     "output_type": "execute_result"
    }
   ],
   "source": [
    "from collections import OrderedDict\n",
    "model = nn.Sequential(OrderedDict([\n",
    "                      ('fc1', nn.Linear(input_size, hidden_sizes[0])),\n",
    "                      ('relu1', nn.ReLU()),\n",
    "                      ('fc2', nn.Linear(hidden_sizes[0], hidden_sizes[1])),\n",
    "                      ('relu2', nn.ReLU()),\n",
    "                      ('output', nn.Linear(hidden_sizes[1], output_size)),\n",
    "                      ('softmax', nn.Softmax(dim=1))]))\n",
    "model"
   ]
  },
  {
   "cell_type": "markdown",
   "metadata": {},
   "source": [
    "Now you can access layers either by integer or the name"
   ]
  },
  {
   "cell_type": "code",
   "execution_count": 122,
   "metadata": {},
   "outputs": [
    {
     "name": "stdout",
     "output_type": "stream",
     "text": [
      "Linear(in_features=784, out_features=128, bias=True)\n",
      "Linear(in_features=784, out_features=128, bias=True)\n"
     ]
    }
   ],
   "source": [
    "print(model[0])\n",
    "print(model.fc1)"
   ]
  },
  {
   "cell_type": "markdown",
   "metadata": {},
   "source": [
    "In the next notebook, we'll see how we can train a neural network to accuractly predict the numbers appearing in the MNIST images."
   ]
  }
 ],
 "metadata": {
  "kernelspec": {
   "display_name": "Python 3 (ipykernel)",
   "language": "python",
   "name": "python3"
  },
  "language_info": {
   "codemirror_mode": {
    "name": "ipython",
    "version": 3
   },
   "file_extension": ".py",
   "mimetype": "text/x-python",
   "name": "python",
   "nbconvert_exporter": "python",
   "pygments_lexer": "ipython3",
   "version": "3.11.4"
  }
 },
 "nbformat": 4,
 "nbformat_minor": 2
}
